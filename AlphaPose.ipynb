{
  "nbformat": 4,
  "nbformat_minor": 0,
  "metadata": {
    "colab": {
      "name": "AlphaPose.ipynb",
      "version": "0.3.2",
      "provenance": [],
      "collapsed_sections": [],
      "toc_visible": true
    },
    "kernelspec": {
      "name": "python3",
      "display_name": "Python 3"
    },
    "accelerator": "GPU"
  },
  "cells": [
    {
      "cell_type": "code",
      "metadata": {
        "id": "2n6uW9HfF1Xm",
        "colab_type": "code",
        "outputId": "3e07c17e-fb19-4cbb-e1cb-fecb99340b7d",
        "colab": {
          "base_uri": "https://localhost:8080/",
          "height": 136
        }
      },
      "source": [
        "!git clone -b pytorch https://github.com/MVIG-SJTU/AlphaPose.git"
      ],
      "execution_count": 1,
      "outputs": [
        {
          "output_type": "stream",
          "text": [
            "Cloning into 'AlphaPose'...\n",
            "remote: Enumerating objects: 18, done.\u001b[K\n",
            "remote: Counting objects:   5% (1/18)   \u001b[K\rremote: Counting objects:  11% (2/18)   \u001b[K\rremote: Counting objects:  16% (3/18)   \u001b[K\rremote: Counting objects:  22% (4/18)   \u001b[K\rremote: Counting objects:  27% (5/18)   \u001b[K\rremote: Counting objects:  33% (6/18)   \u001b[K\rremote: Counting objects:  38% (7/18)   \u001b[K\rremote: Counting objects:  44% (8/18)   \u001b[K\rremote: Counting objects:  50% (9/18)   \u001b[K\rremote: Counting objects:  55% (10/18)   \u001b[K\rremote: Counting objects:  61% (11/18)   \u001b[K\rremote: Counting objects:  66% (12/18)   \u001b[K\rremote: Counting objects:  72% (13/18)   \u001b[K\rremote: Counting objects:  77% (14/18)   \u001b[K\rremote: Counting objects:  83% (15/18)   \u001b[K\rremote: Counting objects:  88% (16/18)   \u001b[K\rremote: Counting objects:  94% (17/18)   \u001b[K\rremote: Counting objects: 100% (18/18)   \u001b[K\rremote: Counting objects: 100% (18/18), done.\u001b[K\n",
            "remote: Compressing objects:   6% (1/16)   \u001b[K\rremote: Compressing objects:  12% (2/16)   \u001b[K\rremote: Compressing objects:  18% (3/16)   \u001b[K\rremote: Compressing objects:  25% (4/16)   \u001b[K\rremote: Compressing objects:  31% (5/16)   \u001b[K\rremote: Compressing objects:  37% (6/16)   \u001b[K\rremote: Compressing objects:  43% (7/16)   \u001b[K\rremote: Compressing objects:  50% (8/16)   \u001b[K\rremote: Compressing objects:  56% (9/16)   \u001b[K\rremote: Compressing objects:  62% (10/16)   \u001b[K\rremote: Compressing objects:  68% (11/16)   \u001b[K\rremote: Compressing objects:  75% (12/16)   \u001b[K\rremote: Compressing objects:  81% (13/16)   \u001b[K\rremote: Compressing objects:  87% (14/16)   \u001b[K\rremote: Compressing objects:  93% (15/16)   \u001b[K\rremote: Compressing objects: 100% (16/16)   \u001b[K\rremote: Compressing objects: 100% (16/16), done.\u001b[K\n",
            "Receiving objects:   0% (1/2351)   \rReceiving objects:   1% (24/2351)   \rReceiving objects:   2% (48/2351)   \rReceiving objects:   3% (71/2351)   \rReceiving objects:   4% (95/2351)   \rReceiving objects:   5% (118/2351)   \rReceiving objects:   6% (142/2351)   \rReceiving objects:   7% (165/2351)   \rReceiving objects:   8% (189/2351)   \rReceiving objects:   9% (212/2351)   \rReceiving objects:  10% (236/2351), 1.68 MiB | 3.20 MiB/s   \rReceiving objects:  11% (259/2351), 1.68 MiB | 3.20 MiB/s   \rReceiving objects:  12% (283/2351), 1.68 MiB | 3.20 MiB/s   \rReceiving objects:  13% (306/2351), 1.68 MiB | 3.20 MiB/s   \rReceiving objects:  13% (321/2351), 1.68 MiB | 3.20 MiB/s   \rReceiving objects:  14% (330/2351), 16.95 MiB | 16.53 MiB/s   \rReceiving objects:  15% (353/2351), 16.95 MiB | 16.53 MiB/s   \rReceiving objects:  16% (377/2351), 16.95 MiB | 16.53 MiB/s   \rReceiving objects:  17% (400/2351), 16.95 MiB | 16.53 MiB/s   \rReceiving objects:  18% (424/2351), 16.95 MiB | 16.53 MiB/s   \rReceiving objects:  19% (447/2351), 16.95 MiB | 16.53 MiB/s   \rReceiving objects:  20% (471/2351), 16.95 MiB | 16.53 MiB/s   \rReceiving objects:  21% (494/2351), 16.95 MiB | 16.53 MiB/s   \rReceiving objects:  22% (518/2351), 16.95 MiB | 16.53 MiB/s   \rReceiving objects:  23% (541/2351), 16.95 MiB | 16.53 MiB/s   \rReceiving objects:  24% (565/2351), 16.95 MiB | 16.53 MiB/s   \rReceiving objects:  25% (588/2351), 16.95 MiB | 16.53 MiB/s   \rReceiving objects:  26% (612/2351), 16.95 MiB | 16.53 MiB/s   \rReceiving objects:  27% (635/2351), 16.95 MiB | 16.53 MiB/s   \rReceiving objects:  28% (659/2351), 16.95 MiB | 16.53 MiB/s   \rReceiving objects:  29% (682/2351), 16.95 MiB | 16.53 MiB/s   \rReceiving objects:  30% (706/2351), 16.95 MiB | 16.53 MiB/s   \rReceiving objects:  30% (726/2351), 40.97 MiB | 20.24 MiB/s   \rReceiving objects:  31% (729/2351), 40.97 MiB | 20.24 MiB/s   \rReceiving objects:  32% (753/2351), 40.97 MiB | 20.24 MiB/s   \rReceiving objects:  33% (776/2351), 40.97 MiB | 20.24 MiB/s   \rReceiving objects:  34% (800/2351), 40.97 MiB | 20.24 MiB/s   \rReceiving objects:  35% (823/2351), 40.97 MiB | 20.24 MiB/s   \rReceiving objects:  36% (847/2351), 40.97 MiB | 20.24 MiB/s   \rReceiving objects:  37% (870/2351), 40.97 MiB | 20.24 MiB/s   \rReceiving objects:  38% (894/2351), 40.97 MiB | 20.24 MiB/s   \rReceiving objects:  39% (917/2351), 40.97 MiB | 20.24 MiB/s   \rReceiving objects:  40% (941/2351), 40.97 MiB | 20.24 MiB/s   \rReceiving objects:  41% (964/2351), 40.97 MiB | 20.24 MiB/s   \rReceiving objects:  42% (988/2351), 40.97 MiB | 20.24 MiB/s   \rReceiving objects:  43% (1011/2351), 40.97 MiB | 20.24 MiB/s   \rReceiving objects:  44% (1035/2351), 40.97 MiB | 20.24 MiB/s   \rReceiving objects:  45% (1058/2351), 40.97 MiB | 20.24 MiB/s   \rReceiving objects:  46% (1082/2351), 40.97 MiB | 20.24 MiB/s   \rReceiving objects:  47% (1105/2351), 40.97 MiB | 20.24 MiB/s   \rReceiving objects:  48% (1129/2351), 40.97 MiB | 20.24 MiB/s   \rReceiving objects:  49% (1152/2351), 40.97 MiB | 20.24 MiB/s   \rReceiving objects:  50% (1176/2351), 40.97 MiB | 20.24 MiB/s   \rReceiving objects:  51% (1200/2351), 40.97 MiB | 20.24 MiB/s   \rReceiving objects:  52% (1223/2351), 40.97 MiB | 20.24 MiB/s   \rReceiving objects:  53% (1247/2351), 40.97 MiB | 20.24 MiB/s   \rReceiving objects:  54% (1270/2351), 40.97 MiB | 20.24 MiB/s   \rReceiving objects:  55% (1294/2351), 63.31 MiB | 25.08 MiB/s   \rReceiving objects:  56% (1317/2351), 63.31 MiB | 25.08 MiB/s   \rReceiving objects:  57% (1341/2351), 63.31 MiB | 25.08 MiB/s   \rReceiving objects:  58% (1364/2351), 63.31 MiB | 25.08 MiB/s   \rReceiving objects:  58% (1375/2351), 63.31 MiB | 25.08 MiB/s   \rReceiving objects:  59% (1388/2351), 80.16 MiB | 26.50 MiB/s   \rReceiving objects:  60% (1411/2351), 80.16 MiB | 26.50 MiB/s   \rReceiving objects:  61% (1435/2351), 80.16 MiB | 26.50 MiB/s   \rReceiving objects:  62% (1458/2351), 80.16 MiB | 26.50 MiB/s   \rReceiving objects:  63% (1482/2351), 80.16 MiB | 26.50 MiB/s   \rReceiving objects:  64% (1505/2351), 80.16 MiB | 26.50 MiB/s   \rReceiving objects:  65% (1529/2351), 80.16 MiB | 26.50 MiB/s   \rReceiving objects:  66% (1552/2351), 80.16 MiB | 26.50 MiB/s   \rReceiving objects:  67% (1576/2351), 80.16 MiB | 26.50 MiB/s   \rReceiving objects:  68% (1599/2351), 80.16 MiB | 26.50 MiB/s   \rReceiving objects:  69% (1623/2351), 80.16 MiB | 26.50 MiB/s   \rReceiving objects:  70% (1646/2351), 80.16 MiB | 26.50 MiB/s   \rReceiving objects:  71% (1670/2351), 80.16 MiB | 26.50 MiB/s   \rReceiving objects:  72% (1693/2351), 80.16 MiB | 26.50 MiB/s   \rReceiving objects:  73% (1717/2351), 80.16 MiB | 26.50 MiB/s   \rReceiving objects:  74% (1740/2351), 80.16 MiB | 26.50 MiB/s   \rReceiving objects:  75% (1764/2351), 80.16 MiB | 26.50 MiB/s   \rReceiving objects:  76% (1787/2351), 80.16 MiB | 26.50 MiB/s   \rReceiving objects:  77% (1811/2351), 80.16 MiB | 26.50 MiB/s   \rReceiving objects:  78% (1834/2351), 80.16 MiB | 26.50 MiB/s   \rReceiving objects:  79% (1858/2351), 106.97 MiB | 30.35 MiB/s   \rReceiving objects:  80% (1881/2351), 106.97 MiB | 30.35 MiB/s   \rReceiving objects:  81% (1905/2351), 106.97 MiB | 30.35 MiB/s   \rReceiving objects:  82% (1928/2351), 106.97 MiB | 30.35 MiB/s   \rReceiving objects:  83% (1952/2351), 106.97 MiB | 30.35 MiB/s   \rReceiving objects:  84% (1975/2351), 106.97 MiB | 30.35 MiB/s   \rReceiving objects:  85% (1999/2351), 106.97 MiB | 30.35 MiB/s   \rReceiving objects:  86% (2022/2351), 106.97 MiB | 30.35 MiB/s   \rReceiving objects:  87% (2046/2351), 106.97 MiB | 30.35 MiB/s   \rReceiving objects:  88% (2069/2351), 106.97 MiB | 30.35 MiB/s   \rReceiving objects:  89% (2093/2351), 106.97 MiB | 30.35 MiB/s   \rReceiving objects:  90% (2116/2351), 106.97 MiB | 30.35 MiB/s   \rReceiving objects:  91% (2140/2351), 106.97 MiB | 30.35 MiB/s   \rReceiving objects:  92% (2163/2351), 106.97 MiB | 30.35 MiB/s   \rReceiving objects:  93% (2187/2351), 106.97 MiB | 30.35 MiB/s   \rReceiving objects:  94% (2210/2351), 106.97 MiB | 30.35 MiB/s   \rReceiving objects:  95% (2234/2351), 106.97 MiB | 30.35 MiB/s   \rReceiving objects:  95% (2245/2351), 106.97 MiB | 30.35 MiB/s   \rReceiving objects:  96% (2257/2351), 106.97 MiB | 30.35 MiB/s   \rReceiving objects:  97% (2281/2351), 106.97 MiB | 30.35 MiB/s   \rremote: Total 2351 (delta 6), reused 6 (delta 2), pack-reused 2333\u001b[K\n",
            "Receiving objects:  98% (2304/2351), 106.97 MiB | 30.35 MiB/s   \rReceiving objects:  99% (2328/2351), 106.97 MiB | 30.35 MiB/s   \rReceiving objects: 100% (2351/2351), 106.97 MiB | 30.35 MiB/s   \rReceiving objects: 100% (2351/2351), 128.54 MiB | 31.98 MiB/s, done.\n",
            "Resolving deltas:   0% (0/937)   \rResolving deltas:   2% (21/937)   \rResolving deltas:   3% (30/937)   \rResolving deltas:   4% (38/937)   \rResolving deltas:   6% (61/937)   \rResolving deltas:   7% (67/937)   \rResolving deltas:  10% (94/937)   \rResolving deltas:  12% (113/937)   \rResolving deltas:  13% (123/937)   \rResolving deltas:  14% (139/937)   \rResolving deltas:  16% (153/937)   \rResolving deltas:  17% (162/937)   \rResolving deltas:  18% (171/937)   \rResolving deltas:  19% (179/937)   \rResolving deltas:  20% (188/937)   \rResolving deltas:  21% (198/937)   \rResolving deltas:  22% (208/937)   \rResolving deltas:  23% (223/937)   \rResolving deltas:  24% (229/937)   \rResolving deltas:  25% (238/937)   \rResolving deltas:  26% (246/937)   \rResolving deltas:  27% (253/937)   \rResolving deltas:  28% (266/937)   \rResolving deltas:  29% (275/937)   \rResolving deltas:  30% (284/937)   \rResolving deltas:  31% (294/937)   \rResolving deltas:  32% (302/937)   \rResolving deltas:  33% (312/937)   \rResolving deltas:  34% (319/937)   \rResolving deltas:  35% (337/937)   \rResolving deltas:  36% (339/937)   \rResolving deltas:  37% (347/937)   \rResolving deltas:  38% (360/937)   \rResolving deltas:  39% (369/937)   \rResolving deltas:  40% (375/937)   \rResolving deltas:  41% (385/937)   \rResolving deltas:  42% (396/937)   \rResolving deltas:  43% (404/937)   \rResolving deltas:  44% (415/937)   \rResolving deltas:  45% (422/937)   \rResolving deltas:  46% (440/937)   \rResolving deltas:  47% (441/937)   \rResolving deltas:  48% (453/937)   \rResolving deltas:  49% (466/937)   \rResolving deltas:  51% (484/937)   \rResolving deltas:  52% (488/937)   \rResolving deltas:  53% (500/937)   \rResolving deltas:  54% (506/937)   \rResolving deltas:  55% (520/937)   \rResolving deltas:  57% (538/937)   \rResolving deltas:  58% (545/937)   \rResolving deltas:  60% (571/937)   \rResolving deltas:  61% (578/937)   \rResolving deltas:  62% (585/937)   \rResolving deltas:  64% (605/937)   \rResolving deltas:  65% (611/937)   \rResolving deltas:  66% (623/937)   \rResolving deltas:  67% (633/937)   \rResolving deltas:  68% (641/937)   \rResolving deltas:  69% (649/937)   \rResolving deltas:  70% (656/937)   \rResolving deltas:  71% (666/937)   \rResolving deltas:  73% (689/937)   \rResolving deltas:  74% (700/937)   \rResolving deltas:  75% (706/937)   \rResolving deltas:  77% (730/937)   \rResolving deltas:  79% (749/937)   \rResolving deltas:  80% (756/937)   \rResolving deltas:  81% (759/937)   \rResolving deltas:  82% (769/937)   \rResolving deltas:  83% (780/937)   \rResolving deltas:  84% (790/937)   \rResolving deltas:  85% (797/937)   \rResolving deltas:  86% (806/937)   \rResolving deltas:  87% (818/937)   \rResolving deltas:  94% (884/937)   \rResolving deltas:  95% (894/937)   \rResolving deltas:  96% (900/937)   \rResolving deltas:  97% (912/937)   \rResolving deltas:  98% (924/937)   \rResolving deltas:  99% (930/937)   \rResolving deltas: 100% (937/937)   \rResolving deltas: 100% (937/937), done.\n"
          ],
          "name": "stdout"
        }
      ]
    },
    {
      "cell_type": "code",
      "metadata": {
        "id": "bKo52zYOid01",
        "colab_type": "code",
        "colab": {
          "base_uri": "https://localhost:8080/",
          "height": 34
        },
        "outputId": "868decda-c618-4315-e06d-0daa567c97cd"
      },
      "source": [
        "cd AlphaPose"
      ],
      "execution_count": 2,
      "outputs": [
        {
          "output_type": "stream",
          "text": [
            "/content/AlphaPose\n"
          ],
          "name": "stdout"
        }
      ]
    },
    {
      "cell_type": "code",
      "metadata": {
        "id": "_jiPtP4_iknG",
        "colab_type": "code",
        "colab": {
          "base_uri": "https://localhost:8080/",
          "height": 292
        },
        "outputId": "5ac35b90-645c-455e-941f-1119002f989b"
      },
      "source": [
        "!pip install -r requirements.txt"
      ],
      "execution_count": 3,
      "outputs": [
        {
          "output_type": "stream",
          "text": [
            "Collecting torch==0.4.0 (from -r requirements.txt (line 1))\n",
            "\u001b[?25l  Downloading https://files.pythonhosted.org/packages/69/43/380514bd9663f1bf708abeb359b8b48d3fabb1c8e95bb3427a980a064c57/torch-0.4.0-cp36-cp36m-manylinux1_x86_64.whl (484.0MB)\n",
            "\u001b[K     |████████████████████████████████| 484.0MB 32kB/s \n",
            "\u001b[?25hRequirement already satisfied: torchvision in /usr/local/lib/python3.6/dist-packages (from -r requirements.txt (line 2)) (0.2.2.post3)\n",
            "Collecting visdom (from -r requirements.txt (line 3))\n",
            "\u001b[?25l  Downloading https://files.pythonhosted.org/packages/97/c4/5f5356fd57ae3c269e0e31601ea6487e0622fedc6756a591e4a5fd66cc7a/visdom-0.1.8.8.tar.gz (1.4MB)\n",
            "\u001b[K     |████████████████████████████████| 1.4MB 45.4MB/s \n",
            "\u001b[?25hRequirement already satisfied: nibabel in /usr/local/lib/python3.6/dist-packages (from -r requirements.txt (line 4)) (2.3.3)\n",
            "Requirement already satisfied: pandas in /usr/local/lib/python3.6/dist-packages (from -r requirements.txt (line 5)) (0.24.2)\n",
            "Requirement already satisfied: tqdm in /usr/local/lib/python3.6/dist-packages (from -r requirements.txt (line 6)) (4.28.1)\n",
            "Requirement already satisfied: matplotlib in /usr/local/lib/python3.6/dist-packages (from -r requirements.txt (line 7)) (3.0.3)\n",
            "Requirement already satisfied: opencv-python in /usr/local/lib/python3.6/dist-packages (from -r requirements.txt (line 8)) (3.4.5.20)\n",
            "Collecting ntpath (from -r requirements.txt (line 9))\n",
            "\u001b[31m  ERROR: Could not find a version that satisfies the requirement ntpath (from -r requirements.txt (line 9)) (from versions: none)\u001b[0m\n",
            "\u001b[31mERROR: No matching distribution found for ntpath (from -r requirements.txt (line 9))\u001b[0m\n"
          ],
          "name": "stdout"
        }
      ]
    },
    {
      "cell_type": "code",
      "metadata": {
        "id": "-Gl8Fs0Ii13o",
        "colab_type": "code",
        "colab": {}
      },
      "source": [
        ""
      ],
      "execution_count": 0,
      "outputs": []
    },
    {
      "cell_type": "code",
      "metadata": {
        "id": "5an4ItxKi5tQ",
        "colab_type": "code",
        "colab": {
          "base_uri": "https://localhost:8080/",
          "height": 51
        },
        "outputId": "fb93451e-345b-4b17-f659-64169f2dbfb3"
      },
      "source": [
        "# Install the PyDrive wrapper & import libraries.\n",
        "# This only needs to be done once per notebook.\n",
        "!pip install -U -q PyDrive\n",
        "from pydrive.auth import GoogleAuth\n",
        "from pydrive.drive import GoogleDrive\n",
        "from google.colab import auth\n",
        "from oauth2client.client import GoogleCredentials\n",
        "\n",
        "# Authenticate and create the PyDrive client.\n",
        "# This only needs to be done once per notebook.\n",
        "auth.authenticate_user()\n",
        "gauth = GoogleAuth()\n",
        "gauth.credentials = GoogleCredentials.get_application_default()\n",
        "drive = GoogleDrive(gauth)\n",
        "\n",
        "# Download a file based on its file ID.\n",
        "#\n",
        "# A file ID looks like: laggVyWshwcyP6kEI-y_W3P8D26sz\n",
        "file_id = '1D47msNOOiJKvPOXlnpyzdKA3k6E97NTC'\n",
        "downloaded = drive.CreateFile({'id': file_id})\n",
        "#print('Downloaded content \"{}\"'.format(downloaded.GetContentString()))\n",
        "downloaded.GetContentFile('models/yolo/yolov3-spp.weights')"
      ],
      "execution_count": 4,
      "outputs": [
        {
          "output_type": "stream",
          "text": [
            "\u001b[?25l\r\u001b[K     |▎                               | 10kB 22.0MB/s eta 0:00:01\r\u001b[K     |▋                               | 20kB 6.6MB/s eta 0:00:01\r\u001b[K     |█                               | 30kB 9.1MB/s eta 0:00:01\r\u001b[K     |█▎                              | 40kB 6.0MB/s eta 0:00:01\r\u001b[K     |█▋                              | 51kB 7.3MB/s eta 0:00:01\r\u001b[K     |██                              | 61kB 8.5MB/s eta 0:00:01\r\u001b[K     |██▎                             | 71kB 9.6MB/s eta 0:00:01\r\u001b[K     |██▋                             | 81kB 10.6MB/s eta 0:00:01\r\u001b[K     |███                             | 92kB 11.7MB/s eta 0:00:01\r\u001b[K     |███▎                            | 102kB 9.5MB/s eta 0:00:01\r\u001b[K     |███▋                            | 112kB 9.5MB/s eta 0:00:01\r\u001b[K     |████                            | 122kB 9.5MB/s eta 0:00:01\r\u001b[K     |████▎                           | 133kB 9.5MB/s eta 0:00:01\r\u001b[K     |████▋                           | 143kB 9.5MB/s eta 0:00:01\r\u001b[K     |█████                           | 153kB 9.5MB/s eta 0:00:01\r\u001b[K     |█████▎                          | 163kB 9.5MB/s eta 0:00:01\r\u001b[K     |█████▋                          | 174kB 9.5MB/s eta 0:00:01\r\u001b[K     |██████                          | 184kB 9.5MB/s eta 0:00:01\r\u001b[K     |██████▎                         | 194kB 9.5MB/s eta 0:00:01\r\u001b[K     |██████▋                         | 204kB 9.5MB/s eta 0:00:01\r\u001b[K     |███████                         | 215kB 9.5MB/s eta 0:00:01\r\u001b[K     |███████▎                        | 225kB 9.5MB/s eta 0:00:01\r\u001b[K     |███████▋                        | 235kB 9.5MB/s eta 0:00:01\r\u001b[K     |████████                        | 245kB 9.5MB/s eta 0:00:01\r\u001b[K     |████████▎                       | 256kB 9.5MB/s eta 0:00:01\r\u001b[K     |████████▋                       | 266kB 9.5MB/s eta 0:00:01\r\u001b[K     |█████████                       | 276kB 9.5MB/s eta 0:00:01\r\u001b[K     |█████████▎                      | 286kB 9.5MB/s eta 0:00:01\r\u001b[K     |█████████▋                      | 296kB 9.5MB/s eta 0:00:01\r\u001b[K     |██████████                      | 307kB 9.5MB/s eta 0:00:01\r\u001b[K     |██████████▎                     | 317kB 9.5MB/s eta 0:00:01\r\u001b[K     |██████████▋                     | 327kB 9.5MB/s eta 0:00:01\r\u001b[K     |███████████                     | 337kB 9.5MB/s eta 0:00:01\r\u001b[K     |███████████▎                    | 348kB 9.5MB/s eta 0:00:01\r\u001b[K     |███████████▋                    | 358kB 9.5MB/s eta 0:00:01\r\u001b[K     |████████████                    | 368kB 9.5MB/s eta 0:00:01\r\u001b[K     |████████████▎                   | 378kB 9.5MB/s eta 0:00:01\r\u001b[K     |████████████▋                   | 389kB 9.5MB/s eta 0:00:01\r\u001b[K     |█████████████                   | 399kB 9.5MB/s eta 0:00:01\r\u001b[K     |█████████████▎                  | 409kB 9.5MB/s eta 0:00:01\r\u001b[K     |█████████████▋                  | 419kB 9.5MB/s eta 0:00:01\r\u001b[K     |██████████████                  | 430kB 9.5MB/s eta 0:00:01\r\u001b[K     |██████████████▎                 | 440kB 9.5MB/s eta 0:00:01\r\u001b[K     |██████████████▋                 | 450kB 9.5MB/s eta 0:00:01\r\u001b[K     |███████████████                 | 460kB 9.5MB/s eta 0:00:01\r\u001b[K     |███████████████▎                | 471kB 9.5MB/s eta 0:00:01\r\u001b[K     |███████████████▋                | 481kB 9.5MB/s eta 0:00:01\r\u001b[K     |████████████████                | 491kB 9.5MB/s eta 0:00:01\r\u001b[K     |████████████████▎               | 501kB 9.5MB/s eta 0:00:01\r\u001b[K     |████████████████▋               | 512kB 9.5MB/s eta 0:00:01\r\u001b[K     |█████████████████               | 522kB 9.5MB/s eta 0:00:01\r\u001b[K     |█████████████████▎              | 532kB 9.5MB/s eta 0:00:01\r\u001b[K     |█████████████████▋              | 542kB 9.5MB/s eta 0:00:01\r\u001b[K     |██████████████████              | 552kB 9.5MB/s eta 0:00:01\r\u001b[K     |██████████████████▎             | 563kB 9.5MB/s eta 0:00:01\r\u001b[K     |██████████████████▋             | 573kB 9.5MB/s eta 0:00:01\r\u001b[K     |███████████████████             | 583kB 9.5MB/s eta 0:00:01\r\u001b[K     |███████████████████▎            | 593kB 9.5MB/s eta 0:00:01\r\u001b[K     |███████████████████▋            | 604kB 9.5MB/s eta 0:00:01\r\u001b[K     |████████████████████            | 614kB 9.5MB/s eta 0:00:01\r\u001b[K     |████████████████████▎           | 624kB 9.5MB/s eta 0:00:01\r\u001b[K     |████████████████████▋           | 634kB 9.5MB/s eta 0:00:01\r\u001b[K     |█████████████████████           | 645kB 9.5MB/s eta 0:00:01\r\u001b[K     |█████████████████████▎          | 655kB 9.5MB/s eta 0:00:01\r\u001b[K     |█████████████████████▋          | 665kB 9.5MB/s eta 0:00:01\r\u001b[K     |██████████████████████          | 675kB 9.5MB/s eta 0:00:01\r\u001b[K     |██████████████████████▎         | 686kB 9.5MB/s eta 0:00:01\r\u001b[K     |██████████████████████▋         | 696kB 9.5MB/s eta 0:00:01\r\u001b[K     |███████████████████████         | 706kB 9.5MB/s eta 0:00:01\r\u001b[K     |███████████████████████▎        | 716kB 9.5MB/s eta 0:00:01\r\u001b[K     |███████████████████████▋        | 727kB 9.5MB/s eta 0:00:01\r\u001b[K     |████████████████████████        | 737kB 9.5MB/s eta 0:00:01\r\u001b[K     |████████████████████████▎       | 747kB 9.5MB/s eta 0:00:01\r\u001b[K     |████████████████████████▋       | 757kB 9.5MB/s eta 0:00:01\r\u001b[K     |████████████████████████▉       | 768kB 9.5MB/s eta 0:00:01\r\u001b[K     |█████████████████████████▏      | 778kB 9.5MB/s eta 0:00:01\r\u001b[K     |█████████████████████████▌      | 788kB 9.5MB/s eta 0:00:01\r\u001b[K     |█████████████████████████▉      | 798kB 9.5MB/s eta 0:00:01\r\u001b[K     |██████████████████████████▏     | 808kB 9.5MB/s eta 0:00:01\r\u001b[K     |██████████████████████████▌     | 819kB 9.5MB/s eta 0:00:01\r\u001b[K     |██████████████████████████▉     | 829kB 9.5MB/s eta 0:00:01\r\u001b[K     |███████████████████████████▏    | 839kB 9.5MB/s eta 0:00:01\r\u001b[K     |███████████████████████████▌    | 849kB 9.5MB/s eta 0:00:01\r\u001b[K     |███████████████████████████▉    | 860kB 9.5MB/s eta 0:00:01\r\u001b[K     |████████████████████████████▏   | 870kB 9.5MB/s eta 0:00:01\r\u001b[K     |████████████████████████████▌   | 880kB 9.5MB/s eta 0:00:01\r\u001b[K     |████████████████████████████▉   | 890kB 9.5MB/s eta 0:00:01\r\u001b[K     |█████████████████████████████▏  | 901kB 9.5MB/s eta 0:00:01\r\u001b[K     |█████████████████████████████▌  | 911kB 9.5MB/s eta 0:00:01\r\u001b[K     |█████████████████████████████▉  | 921kB 9.5MB/s eta 0:00:01\r\u001b[K     |██████████████████████████████▏ | 931kB 9.5MB/s eta 0:00:01\r\u001b[K     |██████████████████████████████▌ | 942kB 9.5MB/s eta 0:00:01\r\u001b[K     |██████████████████████████████▉ | 952kB 9.5MB/s eta 0:00:01\r\u001b[K     |███████████████████████████████▏| 962kB 9.5MB/s eta 0:00:01\r\u001b[K     |███████████████████████████████▌| 972kB 9.5MB/s eta 0:00:01\r\u001b[K     |███████████████████████████████▉| 983kB 9.5MB/s eta 0:00:01\r\u001b[K     |████████████████████████████████| 993kB 9.5MB/s \n",
            "\u001b[?25h  Building wheel for PyDrive (setup.py) ... \u001b[?25l\u001b[?25hdone\n"
          ],
          "name": "stdout"
        }
      ]
    },
    {
      "cell_type": "code",
      "metadata": {
        "id": "u_Ynz8Gck39z",
        "colab_type": "code",
        "colab": {}
      },
      "source": [
        "# Download a file based on its file ID.\n",
        "#\n",
        "# A file ID looks like: laggVyWshwcyP6kEI-y_W3P8D26sz\n",
        "file_id = '1OPORTWB2cwd5YTVBX-NE8fsauZJWsrtW'\n",
        "downloaded = drive.CreateFile({'id': file_id})\n",
        "#print('Downloaded content \"{}\"'.format(downloaded.GetContentString()))\n",
        "downloaded.GetContentFile('models/sppe/duc_se.pth')"
      ],
      "execution_count": 0,
      "outputs": []
    },
    {
      "cell_type": "code",
      "metadata": {
        "id": "yg3mpqL6lTdH",
        "colab_type": "code",
        "colab": {
          "base_uri": "https://localhost:8080/",
          "height": 496
        },
        "outputId": "3c72ee55-9848-4111-8c90-829ec8204725"
      },
      "source": [
        "!pip install visdom"
      ],
      "execution_count": 8,
      "outputs": [
        {
          "output_type": "stream",
          "text": [
            "Collecting visdom\n",
            "  Using cached https://files.pythonhosted.org/packages/97/c4/5f5356fd57ae3c269e0e31601ea6487e0622fedc6756a591e4a5fd66cc7a/visdom-0.1.8.8.tar.gz\n",
            "Requirement already satisfied: numpy>=1.8 in /usr/local/lib/python3.6/dist-packages (from visdom) (1.16.3)\n",
            "Requirement already satisfied: scipy in /usr/local/lib/python3.6/dist-packages (from visdom) (1.2.1)\n",
            "Requirement already satisfied: requests in /usr/local/lib/python3.6/dist-packages (from visdom) (2.21.0)\n",
            "Requirement already satisfied: tornado in /usr/local/lib/python3.6/dist-packages (from visdom) (4.5.3)\n",
            "Requirement already satisfied: pyzmq in /usr/local/lib/python3.6/dist-packages (from visdom) (17.0.0)\n",
            "Requirement already satisfied: six in /usr/local/lib/python3.6/dist-packages (from visdom) (1.12.0)\n",
            "Collecting torchfile (from visdom)\n",
            "  Downloading https://files.pythonhosted.org/packages/91/af/5b305f86f2d218091af657ddb53f984ecbd9518ca9fe8ef4103a007252c9/torchfile-0.1.0.tar.gz\n",
            "Collecting websocket-client (from visdom)\n",
            "\u001b[?25l  Downloading https://files.pythonhosted.org/packages/29/19/44753eab1fdb50770ac69605527e8859468f3c0fd7dc5a76dd9c4dbd7906/websocket_client-0.56.0-py2.py3-none-any.whl (200kB)\n",
            "\u001b[K     |████████████████████████████████| 204kB 9.1MB/s \n",
            "\u001b[?25hRequirement already satisfied: pillow in /usr/local/lib/python3.6/dist-packages (from visdom) (4.3.0)\n",
            "Requirement already satisfied: certifi>=2017.4.17 in /usr/local/lib/python3.6/dist-packages (from requests->visdom) (2019.3.9)\n",
            "Requirement already satisfied: chardet<3.1.0,>=3.0.2 in /usr/local/lib/python3.6/dist-packages (from requests->visdom) (3.0.4)\n",
            "Requirement already satisfied: urllib3<1.25,>=1.21.1 in /usr/local/lib/python3.6/dist-packages (from requests->visdom) (1.24.3)\n",
            "Requirement already satisfied: idna<2.9,>=2.5 in /usr/local/lib/python3.6/dist-packages (from requests->visdom) (2.8)\n",
            "Requirement already satisfied: olefile in /usr/local/lib/python3.6/dist-packages (from pillow->visdom) (0.46)\n",
            "Building wheels for collected packages: visdom, torchfile\n",
            "  Building wheel for visdom (setup.py) ... \u001b[?25l\u001b[?25hdone\n",
            "  Stored in directory: /root/.cache/pip/wheels/ee/87/ce/a5023722374ca73b57fc8d4284ba6f973c01219b3c385a07e0\n",
            "  Building wheel for torchfile (setup.py) ... \u001b[?25l\u001b[?25hdone\n",
            "  Stored in directory: /root/.cache/pip/wheels/b1/c3/d6/9a1cc8f3a99a0fc1124cae20153f36af59a6e683daca0a0814\n",
            "Successfully built visdom torchfile\n",
            "Installing collected packages: torchfile, websocket-client, visdom\n",
            "Successfully installed torchfile-0.1.0 visdom-0.1.8.8 websocket-client-0.56.0\n"
          ],
          "name": "stdout"
        }
      ]
    },
    {
      "cell_type": "code",
      "metadata": {
        "id": "9wzuOTBDlJBr",
        "colab_type": "code",
        "colab": {
          "base_uri": "https://localhost:8080/",
          "height": 207
        },
        "outputId": "98de141c-b61d-4940-dd0e-7f582aca74e4"
      },
      "source": [
        "!python3 demo.py --indir examples/demo --outdir examples/res "
      ],
      "execution_count": 9,
      "outputs": [
        {
          "output_type": "stream",
          "text": [
            "Loading YOLO model..\n",
            "/usr/lib/python3.6/multiprocessing/semaphore_tracker.py:143: UserWarning: semaphore_tracker: There appear to be 1 leaked semaphores to clean up at shutdown\n",
            "  len(cache))\n",
            "/usr/lib/python3.6/multiprocessing/semaphore_tracker.py:143: UserWarning: semaphore_tracker: There appear to be 1 leaked semaphores to clean up at shutdown\n",
            "  len(cache))\n",
            "Loading pose model from ./models/sppe/duc_se.pth\n",
            "100% 3/3 [00:00<00:00,  4.16it/s]\n",
            "===========================> Finish Model Running.\n",
            "/usr/lib/python3.6/multiprocessing/semaphore_tracker.py:143: UserWarning: semaphore_tracker: There appear to be 1 leaked semaphores to clean up at shutdown\n",
            "  len(cache))\n"
          ],
          "name": "stdout"
        }
      ]
    },
    {
      "cell_type": "code",
      "metadata": {
        "id": "3wiTasr6mXpR",
        "colab_type": "code",
        "colab": {
          "base_uri": "https://localhost:8080/",
          "height": 173
        },
        "outputId": "6878797d-253d-4aba-87ba-e845448d1049"
      },
      "source": [
        "!pip install wget"
      ],
      "execution_count": 10,
      "outputs": [
        {
          "output_type": "stream",
          "text": [
            "Collecting wget\n",
            "  Downloading https://files.pythonhosted.org/packages/47/6a/62e288da7bcda82b935ff0c6cfe542970f04e29c756b0e147251b2fb251f/wget-3.2.zip\n",
            "Building wheels for collected packages: wget\n",
            "  Building wheel for wget (setup.py) ... \u001b[?25l\u001b[?25hdone\n",
            "  Stored in directory: /root/.cache/pip/wheels/40/15/30/7d8f7cea2902b4db79e3fea550d7d7b85ecb27ef992b618f3f\n",
            "Successfully built wget\n",
            "Installing collected packages: wget\n",
            "Successfully installed wget-3.2\n"
          ],
          "name": "stdout"
        }
      ]
    },
    {
      "cell_type": "code",
      "metadata": {
        "id": "LctvTX8Rmbih",
        "colab_type": "code",
        "colab": {
          "base_uri": "https://localhost:8080/",
          "height": 34
        },
        "outputId": "5b74fe87-34d8-436a-a2c2-0d8f217917e9"
      },
      "source": [
        "import wget\n",
        "\n",
        "wget.download('http://in-isoda-oss.yy.com/common/user/35000043362/35000043362334c86d2dbdbd8c926afddb5857a5c8e', 'examples/demo/video.mp4')"
      ],
      "execution_count": 12,
      "outputs": [
        {
          "output_type": "execute_result",
          "data": {
            "text/plain": [
              "'examples/demo/video.mp4'"
            ]
          },
          "metadata": {
            "tags": []
          },
          "execution_count": 12
        }
      ]
    },
    {
      "cell_type": "code",
      "metadata": {
        "id": "80y3yd1UnN7G",
        "colab_type": "code",
        "colab": {
          "base_uri": "https://localhost:8080/",
          "height": 153
        },
        "outputId": "a3f1d391-f348-4ba6-acfb-3962341f8ce2"
      },
      "source": [
        "!apt-get install ffmpeg"
      ],
      "execution_count": 14,
      "outputs": [
        {
          "output_type": "stream",
          "text": [
            "Reading package lists... Done\n",
            "Building dependency tree       \n",
            "Reading state information... Done\n",
            "ffmpeg is already the newest version (7:3.4.6-0ubuntu0.18.04.1).\n",
            "The following package was automatically installed and is no longer required:\n",
            "  libnvidia-common-410\n",
            "Use 'apt autoremove' to remove it.\n",
            "0 upgraded, 0 newly installed, 0 to remove and 47 not upgraded.\n"
          ],
          "name": "stdout"
        }
      ]
    },
    {
      "cell_type": "code",
      "metadata": {
        "id": "OOVFhwCam0V8",
        "colab_type": "code",
        "colab": {
          "base_uri": "https://localhost:8080/",
          "height": 139
        },
        "outputId": "66f693b4-7df5-47e4-9a3b-da644b537886"
      },
      "source": [
        "!python3 video_demo.py --video 'examples/demo/video.mp4' --outdir examples/res --save_video --sp"
      ],
      "execution_count": 15,
      "outputs": [
        {
          "output_type": "stream",
          "text": [
            "Loading YOLO model..\n",
            "Loading pose model from ./models/sppe/duc_se.pth\n",
            "100% 298/298 [00:27<00:00, 12.91it/s]\n",
            "===========================> Finish Model Running.\n",
            "===========================> Rendering remaining images in the queue...\n",
            "===========================> If this step takes too long, you can enable the --vis_fast flag to use fast rendering (real-time).\n"
          ],
          "name": "stdout"
        }
      ]
    }
  ]
}